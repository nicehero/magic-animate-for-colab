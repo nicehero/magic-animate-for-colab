{
  "cells": [
    {
      "cell_type": "markdown",
      "metadata": {
        "id": "view-in-github",
        "colab_type": "text"
      },
      "source": [
        "<a href=\"https://colab.research.google.com/github/nicehero/magic-animate-for-colab/blob/main/magic_animate_colab_pose.ipynb\" target=\"_parent\"><img src=\"https://colab.research.google.com/assets/colab-badge.svg\" alt=\"Open In Colab\"/></a>"
      ]
    },
    {
      "cell_type": "code",
      "source": [
        "!pip install -q diffusers==0.21.4 transformers==4.32.0 accelerate==0.22.0 omegaconf==2.3.0 einops==0.6.1 av gradio\n",
        "!pip install -q mediapipe fvcore ftfy addict yapf\n",
        "!pip install -q https://download.pytorch.org/whl/cu118/xformers-0.0.22.post4%2Bcu118-cp310-cp310-manylinux2014_x86_64.whl\n",
        "!apt -y install -qq aria2\n",
        "from huggingface_hub import snapshot_download\n",
        "%cd /content\n",
        "!git clone https://github.com/nicehero/magic-animate-for-colab\n",
        "%cd /content/magic-animate-for-colab\n",
        "!git submodule update --init --recursive\n",
        "!sed -i 's/demo.launch()/demo.launch(share=True)/' video_controlnet_aux/src/video_controlnet_aux.py\n",
        "!python video_controlnet_aux/src/video_controlnet_aux.py"
      ],
      "metadata": {
        "id": "DWaraK5Set94"
      },
      "execution_count": null,
      "outputs": []
    }
  ],
  "metadata": {
    "accelerator": "GPU",
    "colab": {
      "gpuType": "T4",
      "provenance": [],
      "include_colab_link": true
    },
    "kernelspec": {
      "display_name": "Python 3",
      "name": "python3"
    },
    "language_info": {
      "name": "python"
    }
  },
  "nbformat": 4,
  "nbformat_minor": 0
}